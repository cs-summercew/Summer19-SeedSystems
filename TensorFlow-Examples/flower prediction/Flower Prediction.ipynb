{
 "cells": [
  {
   "cell_type": "markdown",
   "metadata": {},
   "source": [
    "### %matplotlib inline"
   ]
  },
  {
   "cell_type": "code",
   "execution_count": 2,
   "metadata": {},
   "outputs": [],
   "source": [
    "from matplotlib import pyplot as plt\n",
    "import numpy as np"
   ]
  },
  {
   "cell_type": "code",
   "execution_count": 3,
   "metadata": {},
   "outputs": [],
   "source": [
    "# Length width type (0 = blue, red = 1)\n",
    "data = [[3,  1.5,  1],\n",
    "        [2,   1,   0],\n",
    "        [4,  1.5,  1],\n",
    "        [3,   1,   0],\n",
    "        [3.5, .5,  1],\n",
    "        [2,   .5,  0],\n",
    "        [5.5, 1,   1],\n",
    "        [1,   1,   0]]\n",
    "\n",
    "mystery_flower = [4.5, 1]"
   ]
  },
  {
   "cell_type": "code",
   "execution_count": 4,
   "metadata": {},
   "outputs": [],
   "source": [
    "# Network\n",
    "\n",
    "#    o   flower type\n",
    "#  /   \\ w1, w2, b\n",
    "# o     o length, width\n"
   ]
  },
  {
   "cell_type": "code",
   "execution_count": 5,
   "metadata": {},
   "outputs": [],
   "source": [
    "# Activation Function\n",
    "def sigmoid(x):\n",
    "    return 1/(1+np.exp(-x))\n",
    "\n",
    "def sigmoid_p(x):\n",
    "    return sigmoid(x) * (1-sigmoid(x))"
   ]
  },
  {
   "cell_type": "code",
   "execution_count": 7,
   "metadata": {},
   "outputs": [
    {
     "data": {
      "image/png": "[encoded data removed]",
      "text/plain": [
       "<Figure size 432x288 with 1 Axes>"
      ]
     },
     "metadata": {
      "needs_background": "light"
     },
     "output_type": "display_data"
    }
   ],
   "source": [
    "T = np.linspace(-5,5,100)\n",
    "plt.plot(T, sigmoid(T), c='r')\n",
    "plt.plot(T, sigmoid_p(T), c='b')\n",
    "plt.show()"
   ]
  },
  {
   "cell_type": "code",
   "execution_count": 7,
   "metadata": {},
   "outputs": [
    {
     "data": {
      "image/png": "[encoded data removed]",
      "text/plain": [
       "<Figure size 432x288 with 1 Axes>"
      ]
     },
     "metadata": {
      "needs_background": "light"
     },
     "output_type": "display_data"
    }
   ],
   "source": [
    "# Scatter data\n",
    "\n",
    "plt.axis([0,6,0,6])\n",
    "plt.grid()\n",
    "for i in range(len(data)):\n",
    "    point = data[i]\n",
    "    color = 'r'\n",
    "    if point[2] == 0:\n",
    "        color = 'b'\n",
    "    plt.scatter(point[0], point[1], c = color)"
   ]
  },
  {
   "cell_type": "code",
   "execution_count": 8,
   "metadata": {},
   "outputs": [],
   "source": [
    "# Training Loop\n",
    "\n",
    "learning_rate = 0.2\n",
    "costs = []\n",
    "w1 = np.random.randn()\n",
    "w2 = np.random.randn()\n",
    "b = np.random.randn()\n",
    "\n",
    "# Grabs one of the point randomly, see what the network output is it,\n",
    "# use that to find the cost, and try to move the derivative closer to \n",
    "# the point\n",
    "for i in range(50000):\n",
    "    ri = np.random.randint(len(data)) # Random input\n",
    "    point = data[ri]\n",
    "    \n",
    "    z = point[0] * w1 + point[1] * w2 + b # Weighted average of the points features and bias\n",
    "    pred = sigmoid(z) # Application of the activation function\n",
    "    \n",
    "    target = point[2] \n",
    "    cost = np.square(pred - target)\n",
    "    \n",
    "    dcost_pred = 2 * (pred - target)\n",
    "    dpred_dz = sigmoid_p(z)\n",
    "    \n",
    "    dz_dw1 = point[0]\n",
    "    dz_dw2 = point[1]\n",
    "    dz_db = 1\n",
    "    \n",
    "    dcost_dz = dcost_pred * dpred_dz\n",
    "    \n",
    "    dcost_dw1 = dcost_dz * dz_dw1\n",
    "    dcost_dw2 = dcost_dz * dz_dw2\n",
    "    dcost_db = dcost_dz * dz_db\n",
    "    \n",
    "    w1 = w1 - learning_rate * dcost_dw1\n",
    "    w2 = w2 - learning_rate * dcost_dw2\n",
    "    b = b - learning_rate * dcost_db"
   ]
  },
  {
   "cell_type": "code",
   "execution_count": 9,
   "metadata": {},
   "outputs": [
    {
     "name": "stdout",
     "output_type": "stream",
     "text": [
      "[3, 1.5, 1]\n",
      "pred: 0.7891570683823248\n",
      "[2, 1, 0]\n",
      "pred: 0.0007359202700187637\n",
      "[4, 1.5, 1]\n",
      "pred: 0.9997400500751562\n",
      "[3, 1, 0]\n",
      "pred: 0.4307619875891615\n",
      "[3.5, 0.5, 1]\n",
      "pred: 0.8306325663286029\n",
      "[2, 0.5, 0]\n",
      "pred: 0.0001488760721239953\n",
      "[5.5, 1, 1]\n",
      "pred: 0.9999999609542265\n",
      "[1, 1, 0]\n",
      "pred: 7.167326488609702e-07\n"
     ]
    }
   ],
   "source": [
    "for i in range(len(data)):\n",
    "    point = data[i]\n",
    "    print(point)\n",
    "    z = point[0] * w1 + point[1] * w2 + b\n",
    "    pred = sigmoid(z)\n",
    "    print('pred: {}'.format(pred))"
   ]
  },
  {
   "cell_type": "code",
   "execution_count": 10,
   "metadata": {},
   "outputs": [
    {
     "data": {
      "text/plain": [
       "0.9999598810449128"
      ]
     },
     "execution_count": 10,
     "metadata": {},
     "output_type": "execute_result"
    }
   ],
   "source": [
    "z = mystery_flower[0] * w1 + mystery_flower[1] * w2 + b\n",
    "pred = sigmoid(z)\n",
    "pred"
   ]
  },
  {
   "cell_type": "code",
   "execution_count": 11,
   "metadata": {},
   "outputs": [],
   "source": [
    "def which_flower(length, width):\n",
    "    z = length * w1 + width * w2 + b\n",
    "    pred = sigmoid(z)\n",
    "    if pred < .5:\n",
    "        print(\"This Flower is Blue\")\n",
    "    else:\n",
    "        print(\"This flower is Red\")"
   ]
  },
  {
   "cell_type": "code",
   "execution_count": 12,
   "metadata": {},
   "outputs": [
    {
     "name": "stdout",
     "output_type": "stream",
     "text": [
      "This flower is Red\n"
     ]
    }
   ],
   "source": [
    "which_flower(4,1.5)"
   ]
  }
 ],
 "metadata": {
  "kernelspec": {
   "display_name": "Python 3",
   "language": "python",
   "name": "python3"
  },
  "language_info": {
   "codemirror_mode": {
    "name": "ipython",
    "version": 3
   },
   "file_extension": ".py",
   "mimetype": "text/x-python",
   "name": "python",
   "nbconvert_exporter": "python",
   "pygments_lexer": "ipython3",
   "version": "3.7.3"
  }
 },
 "nbformat": 4,
 "nbformat_minor": 2
}
