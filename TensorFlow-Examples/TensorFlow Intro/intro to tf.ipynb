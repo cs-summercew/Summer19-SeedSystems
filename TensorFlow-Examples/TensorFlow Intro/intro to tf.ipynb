{
 "cells": [
  {
   "cell_type": "code",
   "execution_count": 1,
   "metadata": {},
   "outputs": [],
   "source": [
    "import tensorflow as tf"
   ]
  },
  {
   "cell_type": "markdown",
   "metadata": {},
   "source": [
    "## Constant Nodes\n",
    "#### What are constant nodes?\n",
    "* Constant nodes are ways to store a constant or unchanging value at a certain location within a computational graph \n",
    "\n",
    "#### When and how to use them\n",
    "* If we have some constant we have to multiply everything in the graph. \n",
    "* Some constant bias to apply to the graph\n"
   ]
  },
  {
   "cell_type": "code",
   "execution_count": 4,
   "metadata": {},
   "outputs": [
    {
     "name": "stdout",
     "output_type": "stream",
     "text": [
      "[array([[1., 2.]], dtype=float32), array([3., 4.], dtype=float32)]\n"
     ]
    }
   ],
   "source": [
    "# This is also okay\n",
    "# const_1 = tf.constant([1.0,2.0])\n",
    "const_1 = tf.constant(value=[1.0, 2.0],\n",
    "                      dtype=tf.float32,\n",
    "                      shape=(1,2),\n",
    "                      name='const_1')\n",
    "const_2 = tf.constant([3.0,4.0])\n",
    "\n",
    "sess = tf.Session()\n",
    "print(sess.run([const_1, const_2]))"
   ]
  },
  {
   "cell_type": "markdown",
   "metadata": {},
   "source": [
    "## Variable Nodes\n",
    "\n",
    "#### What are variable nodes?\n",
    "* Values that can change over time"
   ]
  },
  {
   "cell_type": "code",
   "execution_count": 5,
   "metadata": {},
   "outputs": [
    {
     "name": "stdout",
     "output_type": "stream",
     "text": [
      "<tf.Variable 'Variable_1:0' shape=(1,) dtype=float32_ref>\n",
      "[1.]\n",
      "[1.]\n",
      "[2.]\n"
     ]
    }
   ],
   "source": [
    "# This is also okay\n",
    "var_1 = tf.Variable([1.0])\n",
    "# var_1 = tf.Variable(initial_value=[1.0],\n",
    "#                     trainable=True,\n",
    "#                     collections=None,\n",
    "#                     caching_device=None,\n",
    "#                     name='var_1',\n",
    "#                     variable_def=None, \n",
    "#                     dtype=tf.float32,\n",
    "#                     expected_shape=(1,None),\n",
    "#                     import_scope=None)\n",
    "\n",
    "print(var_1)\n",
    "init = tf.global_variables_initializer()\n",
    "sess.run(init) # Necessary to run Variables\n",
    "print(sess.run(var_1))\n",
    "\n",
    "# Assign new value to variable nodes\n",
    "# Every operation in tf needs to be assigned to a new node\n",
    "var_2 = var_1.assign([2.0])\n",
    "\n",
    "print(sess.run(var_1))\n",
    "print(sess.run(var_2))"
   ]
  },
  {
   "cell_type": "markdown",
   "metadata": {},
   "source": [
    "## Placeholder Nodes\n",
    "#### What are they\n",
    "* Inputs into our computational graphs\n",
    "* They don't contain any values until we assign them at runtime\n"
   ]
  },
  {
   "cell_type": "code",
   "execution_count": 6,
   "metadata": {},
   "outputs": [
    {
     "name": "stdout",
     "output_type": "stream",
     "text": [
      "Tensor(\"placeholder_1:0\", shape=(1, 4), dtype=float32)\n",
      "[array([[1., 2., 3., 4.]], dtype=float32), array([[1., 2.],\n",
      "       [3., 4.]], dtype=float32)]\n"
     ]
    }
   ],
   "source": [
    "placeholder_1 = tf.placeholder(dtype=tf.float32,\n",
    "                               shape=(1,4),\n",
    "                               name='placeholder_1')\n",
    "placeholder_2 = tf.placeholder(dtype=tf.float32,\n",
    "                               shape=(2,2),\n",
    "                               name='placeholder_2')\n",
    "\n",
    "print(placeholder_1)\n",
    "print(sess.run([placeholder_1, placeholder_2], \n",
    "               feed_dict={placeholder_1:[[1.0,2.0,3.0,4.0]], placeholder_2:[[1.0,2.0],[3.0,4.0]]}))"
   ]
  },
  {
   "cell_type": "markdown",
   "metadata": {},
   "source": [
    "## Operation Nodes\n",
    "#### What are they\n",
    "* Any node that performs some operation on existing nodes (like the ```.assign``` as seen above)"
   ]
  },
  {
   "cell_type": "code",
   "execution_count": 7,
   "metadata": {},
   "outputs": [
    {
     "name": "stdout",
     "output_type": "stream",
     "text": [
      "[5. 7. 9.]\n"
     ]
    }
   ],
   "source": [
    "const_1 = tf.constant(1.0)\n",
    "const_2 = tf.constant(2.0)\n",
    "placeholder_1 = tf.placeholder(tf.float32)\n",
    "# results = const_1 + const_2 This is fine but can't name it\n",
    "results = tf.add(placeholder_1, const_2, name='results')\n",
    "\n",
    "# y = Wx + b\n",
    "W = tf.constant(2.0)\n",
    "b = tf.constant(1.0)\n",
    "x = tf.placeholder(tf.float32)\n",
    "#y = W * x + b\n",
    "mult = tf.multiply(W, x)\n",
    "y = tf.add(mult, b)\n",
    "\n",
    "# print(sess.run(results, feed_dict={placeholder_1:[2]}))\n",
    "print(sess.run(y, feed_dict={x:[2.0, 3.0, 4.0]}))"
   ]
  },
  {
   "cell_type": "markdown",
   "metadata": {},
   "source": [
    "## Loss, Optimizers, and Training\n",
    "#### Concepts\n",
    "* Loss Function: Actual vs Expected outputs\n",
    "* Actual: output from our model given an input\n",
    "* Expected: Correct output given and input\n",
    "\n",
    "#### Optimizers\n",
    "* Change values in model to alter loss (typically to minimize the loss)\n",
    "\n",
    "#### Training\n",
    "* Values are altered during training phase\n",
    "* Model assessed during testing "
   ]
  },
  {
   "cell_type": "code",
   "execution_count": 8,
   "metadata": {},
   "outputs": [],
   "source": [
    "# Expected outputs\n",
    "x_train = [1.0, 2.0, 3.0, 4.0]\n",
    "y_train = [2.0, 3.0, 4.0, 5.0]\n",
    "\n",
    "# Actual outputs\n",
    "y_actual = [1.5,2.5,3.5,4.5]\n",
    "\n",
    "# loss = tf.reduce_sum(input_tensor=tf.square(y_train-y_actual))\n",
    "# optimizer = tf.train.GradientDescentOptimizer(learning_rate=0.05)\n",
    "# train_step = optimizer.minimize(loss=loss)\n"
   ]
  },
  {
   "cell_type": "markdown",
   "metadata": {},
   "source": [
    "## Linear Regression"
   ]
  },
  {
   "cell_type": "code",
   "execution_count": 9,
   "metadata": {},
   "outputs": [],
   "source": [
    "import tensorflow as tf"
   ]
  },
  {
   "cell_type": "code",
   "execution_count": 13,
   "metadata": {},
   "outputs": [
    {
     "name": "stdout",
     "output_type": "stream",
     "text": [
      "Initial Loss: 164.0\n",
      "[3.1441516e-12, array([-1.0000007], dtype=float32), array([2.0641437e-06], dtype=float32)]\n",
      "[ -5.000002 -10.000006 -15.000009]\n"
     ]
    }
   ],
   "source": [
    "# y = Wx + b\n",
    "x_train = [1.0, 2.0, 3.0, 4.0]\n",
    "y_train = [-1.0, -2.0, -3.0, -4.0]\n",
    "\n",
    "W = tf.Variable([1.0], dtype=tf.float32)\n",
    "b = tf.Variable([1.0], dtype=tf.float32)\n",
    "\n",
    "x = tf.placeholder(tf.float32, name='x')\n",
    "y_in = tf.placeholder(tf.float32)\n",
    "mult = tf.multiply(W,x)\n",
    "y_out = tf.add(mult,b)\n",
    "\n",
    "loss = tf.reduce_sum(tf.square(tf.subtract(y_out, y_in)))\n",
    "optimizer = tf.train.GradientDescentOptimizer(learning_rate = 0.01)\n",
    "train_step = optimizer.minimize(loss=loss)\n",
    "\n",
    "session = tf.Session()\n",
    "session.run(tf.global_variables_initializer())\n",
    "\n",
    "print('Initial Loss: ', end='')\n",
    "print(session.run(loss, feed_dict={x: x_train, y_in: y_train}))\n",
    "\n",
    "for _ in range(1000):\n",
    "    session.run(train_step, feed_dict={x: x_train, y_in: y_train})\n",
    "print(session.run([loss, W, b], feed_dict={x: x_train, y_in: y_train}))\n",
    "print(session.run(y_out, feed_dict={x: [5.0, 10.0, 15.0]}))"
   ]
  },
  {
   "cell_type": "code",
   "execution_count": null,
   "metadata": {},
   "outputs": [],
   "source": []
  }
 ],
 "metadata": {
  "kernelspec": {
   "display_name": "Python 3",
   "language": "python",
   "name": "python3"
  },
  "language_info": {
   "codemirror_mode": {
    "name": "ipython",
    "version": 3
   },
   "file_extension": ".py",
   "mimetype": "text/x-python",
   "name": "python",
   "nbconvert_exporter": "python",
   "pygments_lexer": "ipython3",
   "version": "3.7.3"
  }
 },
 "nbformat": 4,
 "nbformat_minor": 2
}
